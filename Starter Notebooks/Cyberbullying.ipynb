{
 "cells": [
  {
   "cell_type": "code",
   "execution_count": 1,
   "metadata": {},
   "outputs": [
    {
     "data": {
      "text/plain": [
       "'/Users/hannah/project_tmp/bullying-in-america/Starter Notebooks'"
      ]
     },
     "execution_count": 1,
     "metadata": {},
     "output_type": "execute_result"
    }
   ],
   "source": [
    "import pandas as pd\n",
    "import os \n",
    "import numpy as np\n",
    "import matplotlib.pyplot as plt\n",
    "os.getcwd()"
   ]
  },
  {
   "cell_type": "code",
   "execution_count": 5,
   "metadata": {},
   "outputs": [
    {
     "data": {
      "text/plain": [
       "['.DS_Store',\n",
       " 'Untitled.ipynb',\n",
       " 'README.md',\n",
       " '.ipynb',\n",
       " '.ipynb_checkpoints',\n",
       " 'data-transform.csv',\n",
       " '.git',\n",
       " 'cyberbully_1.csv',\n",
       " 'cyberbully_2.csv']"
      ]
     },
     "execution_count": 5,
     "metadata": {},
     "output_type": "execute_result"
    }
   ],
   "source": [
    "# Load in file\n",
    "os.listdir(os.getcwd())"
   ]
  },
  {
   "cell_type": "code",
   "execution_count": 4,
   "metadata": {},
   "outputs": [],
   "source": [
    "# Read and display the CSV with Pandas\n",
    "cyberB_df=pd.read_csv(\"../Input/cyberbully_1.csv\")\n",
    "CyberB_df=pd.read_csv(\"../Input/cyberbully_2.csv\")\n"
   ]
  },
  {
   "cell_type": "code",
   "execution_count": 5,
   "metadata": {
    "scrolled": true
   },
   "outputs": [
    {
     "data": {
      "text/html": [
       "<div>\n",
       "<style scoped>\n",
       "    .dataframe tbody tr th:only-of-type {\n",
       "        vertical-align: middle;\n",
       "    }\n",
       "\n",
       "    .dataframe tbody tr th {\n",
       "        vertical-align: top;\n",
       "    }\n",
       "\n",
       "    .dataframe thead th {\n",
       "        text-align: right;\n",
       "    }\n",
       "</style>\n",
       "<table border=\"1\" class=\"dataframe\">\n",
       "  <thead>\n",
       "    <tr style=\"text-align: right;\">\n",
       "      <th></th>\n",
       "      <th>Total Sample (N = 15 465), % [95% CI]</th>\n",
       "      <th>No (n = 13 197), % [95% CI]</th>\n",
       "      <th>Yes (n = 2268), % [95% CI]</th>\n",
       "    </tr>\n",
       "    <tr>\n",
       "      <th>Cyberbullying Victimization</th>\n",
       "      <th></th>\n",
       "      <th></th>\n",
       "      <th></th>\n",
       "    </tr>\n",
       "  </thead>\n",
       "  <tbody>\n",
       "    <tr>\n",
       "      <th>Age</th>\n",
       "      <td></td>\n",
       "      <td></td>\n",
       "      <td></td>\n",
       "    </tr>\n",
       "    <tr>\n",
       "      <th>&lt;15 years</th>\n",
       "      <td>36.5</td>\n",
       "      <td>36.1</td>\n",
       "      <td>38.5</td>\n",
       "    </tr>\n",
       "    <tr>\n",
       "      <th>&gt;15 years</th>\n",
       "      <td>63.6</td>\n",
       "      <td>63.9</td>\n",
       "      <td>61.5</td>\n",
       "    </tr>\n",
       "    <tr>\n",
       "      <th>Sex</th>\n",
       "      <td></td>\n",
       "      <td></td>\n",
       "      <td></td>\n",
       "    </tr>\n",
       "    <tr>\n",
       "      <th>Male</th>\n",
       "      <td>51.3</td>\n",
       "      <td>54.8</td>\n",
       "      <td>31.9</td>\n",
       "    </tr>\n",
       "    <tr>\n",
       "      <th>Female</th>\n",
       "      <td>48.7</td>\n",
       "      <td>45.2</td>\n",
       "      <td>68.1</td>\n",
       "    </tr>\n",
       "    <tr>\n",
       "      <th>Race</th>\n",
       "      <td></td>\n",
       "      <td></td>\n",
       "      <td></td>\n",
       "    </tr>\n",
       "    <tr>\n",
       "      <th>American Indian</th>\n",
       "      <td>0.6</td>\n",
       "      <td>0.6</td>\n",
       "      <td>0.7</td>\n",
       "    </tr>\n",
       "    <tr>\n",
       "      <th>Asian</th>\n",
       "      <td>3.8</td>\n",
       "      <td>3.8</td>\n",
       "      <td>3.3</td>\n",
       "    </tr>\n",
       "    <tr>\n",
       "      <th>African American</th>\n",
       "      <td>13.6</td>\n",
       "      <td>14.6</td>\n",
       "      <td>7.4</td>\n",
       "    </tr>\n",
       "    <tr>\n",
       "      <th>Native Hawaiian</th>\n",
       "      <td>0.6</td>\n",
       "      <td>0.7</td>\n",
       "      <td>0.5</td>\n",
       "    </tr>\n",
       "    <tr>\n",
       "      <th>White</th>\n",
       "      <td>54.5</td>\n",
       "      <td>52.8</td>\n",
       "      <td>64.3</td>\n",
       "    </tr>\n",
       "    <tr>\n",
       "      <th>Hispanic/Latino</th>\n",
       "      <td>9.9</td>\n",
       "      <td>10.7</td>\n",
       "      <td>5.9</td>\n",
       "    </tr>\n",
       "    <tr>\n",
       "      <th>Multiple Hispanic/Latino</th>\n",
       "      <td>12.3</td>\n",
       "      <td>12.4</td>\n",
       "      <td>11.8</td>\n",
       "    </tr>\n",
       "    <tr>\n",
       "      <th>Multiple non-Hispanic/Latino</th>\n",
       "      <td>4.6</td>\n",
       "      <td>4.4</td>\n",
       "      <td>6.1</td>\n",
       "    </tr>\n",
       "    <tr>\n",
       "      <th>Race (dichotomized)</th>\n",
       "      <td></td>\n",
       "      <td></td>\n",
       "      <td></td>\n",
       "    </tr>\n",
       "    <tr>\n",
       "      <th>Non-white</th>\n",
       "      <td>45.5</td>\n",
       "      <td>47.2</td>\n",
       "      <td>35.7</td>\n",
       "    </tr>\n",
       "    <tr>\n",
       "      <th>White</th>\n",
       "      <td>54.5</td>\n",
       "      <td>52.8</td>\n",
       "      <td>64.3</td>\n",
       "    </tr>\n",
       "    <tr>\n",
       "      <th>Ethnicity</th>\n",
       "      <td></td>\n",
       "      <td></td>\n",
       "      <td></td>\n",
       "    </tr>\n",
       "    <tr>\n",
       "      <th>Not-Hispanic/Latino</th>\n",
       "      <td>77.8</td>\n",
       "      <td>77.0</td>\n",
       "      <td>82.4</td>\n",
       "    </tr>\n",
       "    <tr>\n",
       "      <th>Hispanic/Latino</th>\n",
       "      <td>22.2</td>\n",
       "      <td>23.0</td>\n",
       "      <td>17.6</td>\n",
       "    </tr>\n",
       "  </tbody>\n",
       "</table>\n",
       "</div>"
      ],
      "text/plain": [
       "                              Total Sample (N = 15 465), % [95% CI]  \\\n",
       "Cyberbullying Victimization                                           \n",
       "Age                                                                   \n",
       "<15 years                                                      36.5   \n",
       ">15 years                                                      63.6   \n",
       "Sex                                                                   \n",
       "Male                                                           51.3   \n",
       "Female                                                         48.7   \n",
       "Race                                                                  \n",
       "American Indian                                                 0.6   \n",
       "Asian                                                           3.8   \n",
       "African American                                               13.6   \n",
       "Native Hawaiian                                                 0.6   \n",
       "White                                                          54.5   \n",
       "Hispanic/Latino                                                 9.9   \n",
       "Multiple Hispanic/Latino                                       12.3   \n",
       "Multiple non-Hispanic/Latino                                    4.6   \n",
       "Race (dichotomized)                                                   \n",
       "Non-white                                                      45.5   \n",
       "White                                                          54.5   \n",
       "Ethnicity                                                             \n",
       "Not-Hispanic/Latino                                            77.8   \n",
       "Hispanic/Latino                                                22.2   \n",
       "\n",
       "                              No (n = 13 197), % [95% CI]  \\\n",
       "Cyberbullying Victimization                                 \n",
       "Age                                                         \n",
       "<15 years                                            36.1   \n",
       ">15 years                                            63.9   \n",
       "Sex                                                         \n",
       "Male                                                 54.8   \n",
       "Female                                               45.2   \n",
       "Race                                                        \n",
       "American Indian                                       0.6   \n",
       "Asian                                                 3.8   \n",
       "African American                                     14.6   \n",
       "Native Hawaiian                                       0.7   \n",
       "White                                                52.8   \n",
       "Hispanic/Latino                                      10.7   \n",
       "Multiple Hispanic/Latino                             12.4   \n",
       "Multiple non-Hispanic/Latino                          4.4   \n",
       "Race (dichotomized)                                         \n",
       "Non-white                                            47.2   \n",
       "White                                                52.8   \n",
       "Ethnicity                                                   \n",
       "Not-Hispanic/Latino                                  77.0   \n",
       "Hispanic/Latino                                      23.0   \n",
       "\n",
       "                              Yes (n = 2268), % [95% CI]  \n",
       "Cyberbullying Victimization                               \n",
       "Age                                                       \n",
       "<15 years                                           38.5  \n",
       ">15 years                                           61.5  \n",
       "Sex                                                       \n",
       "Male                                                31.9  \n",
       "Female                                              68.1  \n",
       "Race                                                      \n",
       "American Indian                                      0.7  \n",
       "Asian                                                3.3  \n",
       "African American                                     7.4  \n",
       "Native Hawaiian                                      0.5  \n",
       "White                                               64.3  \n",
       "Hispanic/Latino                                      5.9  \n",
       "Multiple Hispanic/Latino                            11.8  \n",
       "Multiple non-Hispanic/Latino                         6.1  \n",
       "Race (dichotomized)                                       \n",
       "Non-white                                           35.7  \n",
       "White                                               64.3  \n",
       "Ethnicity                                                 \n",
       "Not-Hispanic/Latino                                 82.4  \n",
       "Hispanic/Latino                                     17.6  "
      ]
     },
     "execution_count": 5,
     "metadata": {},
     "output_type": "execute_result"
    }
   ],
   "source": [
    "cyberB_df.head(2)\n",
    "renamed_df = cyberB_df.rename(columns={\"Table 1. Weighted Statistics for Demographic Variables With the Total Sample and by Victimization Status\":\"Cyberbullying Victimization\",\"Unnamed: 1\":\"Total Sample (N = 15 465), % [95% CI]\",\"Unnamed: 5\":\"No (n = 13 197), % [95% CI]\",\"Unnamed: 9\":\"Yes (n = 2268), % [95% CI]\"})\n",
    "df_1=renamed_df.drop([0, 1, 2,3,4,5])\n",
    "df_2=df_1.fillna('')\n",
    "\n",
    "df_2=df_2.set_index('Cyberbullying Victimization')\n",
    "df_3=df_2.drop(columns=[\"Unnamed: 3\",\"Unnamed: 2\",\"Unnamed: 4\",\"Unnamed: 6\",\"Unnamed: 7\",\"Unnamed: 8\",\"Unnamed: 10\",\"Unnamed: 11\"])\n",
    "df_3\n"
   ]
  },
  {
   "cell_type": "code",
   "execution_count": 6,
   "metadata": {},
   "outputs": [
    {
     "data": {
      "text/html": [
       "<div>\n",
       "<style scoped>\n",
       "    .dataframe tbody tr th:only-of-type {\n",
       "        vertical-align: middle;\n",
       "    }\n",
       "\n",
       "    .dataframe tbody tr th {\n",
       "        vertical-align: top;\n",
       "    }\n",
       "\n",
       "    .dataframe thead th {\n",
       "        text-align: right;\n",
       "    }\n",
       "</style>\n",
       "<table border=\"1\" class=\"dataframe\">\n",
       "  <thead>\n",
       "    <tr style=\"text-align: right;\">\n",
       "      <th>Cyberbullying Victimization</th>\n",
       "      <th>index</th>\n",
       "      <th>&lt;15 years</th>\n",
       "      <th>&gt;15 years</th>\n",
       "      <th>Male</th>\n",
       "      <th>Female</th>\n",
       "      <th>American Indian</th>\n",
       "      <th>Asian</th>\n",
       "      <th>African American</th>\n",
       "      <th>Native Hawaiian</th>\n",
       "      <th>White</th>\n",
       "      <th>Hispanic/Latino</th>\n",
       "      <th>Multiple Hispanic/Latino</th>\n",
       "      <th>Multiple non-Hispanic/Latino</th>\n",
       "      <th>Non-white</th>\n",
       "      <th>White</th>\n",
       "      <th>Not-Hispanic/Latino</th>\n",
       "      <th>Hispanic/Latino</th>\n",
       "    </tr>\n",
       "  </thead>\n",
       "  <tbody>\n",
       "    <tr>\n",
       "      <th>0</th>\n",
       "      <td>Total Sample (N = 15 465), % [95% CI]</td>\n",
       "      <td>36.5</td>\n",
       "      <td>63.6</td>\n",
       "      <td>51.3</td>\n",
       "      <td>48.7</td>\n",
       "      <td>0.6</td>\n",
       "      <td>3.8</td>\n",
       "      <td>13.6</td>\n",
       "      <td>0.6</td>\n",
       "      <td>54.5</td>\n",
       "      <td>9.9</td>\n",
       "      <td>12.3</td>\n",
       "      <td>4.6</td>\n",
       "      <td>45.5</td>\n",
       "      <td>54.5</td>\n",
       "      <td>77.8</td>\n",
       "      <td>22.2</td>\n",
       "    </tr>\n",
       "    <tr>\n",
       "      <th>1</th>\n",
       "      <td>No (n = 13 197), % [95% CI]</td>\n",
       "      <td>36.1</td>\n",
       "      <td>63.9</td>\n",
       "      <td>54.8</td>\n",
       "      <td>45.2</td>\n",
       "      <td>0.6</td>\n",
       "      <td>3.8</td>\n",
       "      <td>14.6</td>\n",
       "      <td>0.7</td>\n",
       "      <td>52.8</td>\n",
       "      <td>10.7</td>\n",
       "      <td>12.4</td>\n",
       "      <td>4.4</td>\n",
       "      <td>47.2</td>\n",
       "      <td>52.8</td>\n",
       "      <td>77.0</td>\n",
       "      <td>23.0</td>\n",
       "    </tr>\n",
       "    <tr>\n",
       "      <th>2</th>\n",
       "      <td>Yes (n = 2268), % [95% CI]</td>\n",
       "      <td>38.5</td>\n",
       "      <td>61.5</td>\n",
       "      <td>31.9</td>\n",
       "      <td>68.1</td>\n",
       "      <td>0.7</td>\n",
       "      <td>3.3</td>\n",
       "      <td>7.4</td>\n",
       "      <td>0.5</td>\n",
       "      <td>64.3</td>\n",
       "      <td>5.9</td>\n",
       "      <td>11.8</td>\n",
       "      <td>6.1</td>\n",
       "      <td>35.7</td>\n",
       "      <td>64.3</td>\n",
       "      <td>82.4</td>\n",
       "      <td>17.6</td>\n",
       "    </tr>\n",
       "  </tbody>\n",
       "</table>\n",
       "</div>"
      ],
      "text/plain": [
       "Cyberbullying Victimization                                  index <15 years  \\\n",
       "0                            Total Sample (N = 15 465), % [95% CI]      36.5   \n",
       "1                                      No (n = 13 197), % [95% CI]      36.1   \n",
       "2                                       Yes (n = 2268), % [95% CI]      38.5   \n",
       "\n",
       "Cyberbullying Victimization >15 years Male   Female   American Indian Asian   \\\n",
       "0                                63.6   51.3     48.7             0.6    3.8   \n",
       "1                                63.9   54.8     45.2             0.6    3.8   \n",
       "2                                61.5   31.9     68.1             0.7    3.3   \n",
       "\n",
       "Cyberbullying Victimization African American   Native Hawaiian  White   \\\n",
       "0                                         13.6              0.6   54.5   \n",
       "1                                         14.6              0.7   52.8   \n",
       "2                                          7.4              0.5   64.3   \n",
       "\n",
       "Cyberbullying Victimization Hispanic/Latino Multiple Hispanic/Latino   \\\n",
       "0                                       9.9                      12.3   \n",
       "1                                      10.7                      12.4   \n",
       "2                                       5.9                      11.8   \n",
       "\n",
       "Cyberbullying Victimization Multiple non-Hispanic/Latino  Non-white White  \\\n",
       "0                                                     4.6      45.5  54.5   \n",
       "1                                                     4.4      47.2  52.8   \n",
       "2                                                     6.1      35.7  64.3   \n",
       "\n",
       "Cyberbullying Victimization Not-Hispanic/Latino  Hispanic/Latino   \n",
       "0                                           77.8             22.2  \n",
       "1                                           77.0             23.0  \n",
       "2                                           82.4             17.6  "
      ]
     },
     "execution_count": 6,
     "metadata": {},
     "output_type": "execute_result"
    }
   ],
   "source": [
    "transpose=df_3.T\n",
    "transpose=transpose.reset_index(drop=False)\n",
    "transpose=transpose.drop(columns=[\"Age\",\"Sex\",\"Race\",\"Race (dichotomized)\",\"Ethnicity\"])\n",
    "transpose"
   ]
  },
  {
   "cell_type": "code",
   "execution_count": 7,
   "metadata": {},
   "outputs": [
    {
     "data": {
      "text/html": [
       "<div>\n",
       "<style scoped>\n",
       "    .dataframe tbody tr th:only-of-type {\n",
       "        vertical-align: middle;\n",
       "    }\n",
       "\n",
       "    .dataframe tbody tr th {\n",
       "        vertical-align: top;\n",
       "    }\n",
       "\n",
       "    .dataframe thead th {\n",
       "        text-align: right;\n",
       "    }\n",
       "</style>\n",
       "<table border=\"1\" class=\"dataframe\">\n",
       "  <thead>\n",
       "    <tr style=\"text-align: right;\">\n",
       "      <th>Cyberbullying Victimization</th>\n",
       "      <th>&lt;15 years</th>\n",
       "      <th>&gt;15 years</th>\n",
       "      <th>Male</th>\n",
       "      <th>Female</th>\n",
       "      <th>American Indian</th>\n",
       "      <th>Asian</th>\n",
       "      <th>African American</th>\n",
       "      <th>Native Hawaiian</th>\n",
       "      <th>White</th>\n",
       "      <th>Hispanic/Latino</th>\n",
       "      <th>Multiple Hispanic/Latino</th>\n",
       "      <th>Multiple non-Hispanic/Latino</th>\n",
       "      <th>Non-white</th>\n",
       "      <th>White</th>\n",
       "      <th>Not-Hispanic/Latino</th>\n",
       "    </tr>\n",
       "  </thead>\n",
       "  <tbody>\n",
       "    <tr>\n",
       "      <th>0</th>\n",
       "      <td>36.5</td>\n",
       "      <td>63.6</td>\n",
       "      <td>51.3</td>\n",
       "      <td>48.7</td>\n",
       "      <td>0.6</td>\n",
       "      <td>3.8</td>\n",
       "      <td>13.6</td>\n",
       "      <td>0.6</td>\n",
       "      <td>54.5</td>\n",
       "      <td>9.9</td>\n",
       "      <td>12.3</td>\n",
       "      <td>4.6</td>\n",
       "      <td>45.5</td>\n",
       "      <td>54.5</td>\n",
       "      <td>77.8</td>\n",
       "    </tr>\n",
       "    <tr>\n",
       "      <th>1</th>\n",
       "      <td>36.1</td>\n",
       "      <td>63.9</td>\n",
       "      <td>54.8</td>\n",
       "      <td>45.2</td>\n",
       "      <td>0.6</td>\n",
       "      <td>3.8</td>\n",
       "      <td>14.6</td>\n",
       "      <td>0.7</td>\n",
       "      <td>52.8</td>\n",
       "      <td>10.7</td>\n",
       "      <td>12.4</td>\n",
       "      <td>4.4</td>\n",
       "      <td>47.2</td>\n",
       "      <td>52.8</td>\n",
       "      <td>77.0</td>\n",
       "    </tr>\n",
       "    <tr>\n",
       "      <th>2</th>\n",
       "      <td>38.5</td>\n",
       "      <td>61.5</td>\n",
       "      <td>31.9</td>\n",
       "      <td>68.1</td>\n",
       "      <td>0.7</td>\n",
       "      <td>3.3</td>\n",
       "      <td>7.4</td>\n",
       "      <td>0.5</td>\n",
       "      <td>64.3</td>\n",
       "      <td>5.9</td>\n",
       "      <td>11.8</td>\n",
       "      <td>6.1</td>\n",
       "      <td>35.7</td>\n",
       "      <td>64.3</td>\n",
       "      <td>82.4</td>\n",
       "    </tr>\n",
       "  </tbody>\n",
       "</table>\n",
       "</div>"
      ],
      "text/plain": [
       "Cyberbullying Victimization <15 years >15 years Male   Female    \\\n",
       "0                                36.5      63.6   51.3     48.7   \n",
       "1                                36.1      63.9   54.8     45.2   \n",
       "2                                38.5      61.5   31.9     68.1   \n",
       "\n",
       "Cyberbullying Victimization American Indian Asian  African American    \\\n",
       "0                                       0.6    3.8               13.6   \n",
       "1                                       0.6    3.8               14.6   \n",
       "2                                       0.7    3.3                7.4   \n",
       "\n",
       "Cyberbullying Victimization Native Hawaiian  White  Hispanic/Latino  \\\n",
       "0                                        0.6   54.5             9.9   \n",
       "1                                        0.7   52.8            10.7   \n",
       "2                                        0.5   64.3             5.9   \n",
       "\n",
       "Cyberbullying Victimization Multiple Hispanic/Latino   \\\n",
       "0                                                12.3   \n",
       "1                                                12.4   \n",
       "2                                                11.8   \n",
       "\n",
       "Cyberbullying Victimization Multiple non-Hispanic/Latino  Non-white White  \\\n",
       "0                                                     4.6      45.5  54.5   \n",
       "1                                                     4.4      47.2  52.8   \n",
       "2                                                     6.1      35.7  64.3   \n",
       "\n",
       "Cyberbullying Victimization Not-Hispanic/Latino   \n",
       "0                                           77.8  \n",
       "1                                           77.0  \n",
       "2                                           82.4  "
      ]
     },
     "execution_count": 7,
     "metadata": {},
     "output_type": "execute_result"
    }
   ],
   "source": [
    "\n",
    "df1 = transpose.iloc[:, 1:16]\n",
    "df1\n"
   ]
  },
  {
   "cell_type": "code",
   "execution_count": 8,
   "metadata": {},
   "outputs": [
    {
     "data": {
      "text/html": [
       "<div>\n",
       "<style scoped>\n",
       "    .dataframe tbody tr th:only-of-type {\n",
       "        vertical-align: middle;\n",
       "    }\n",
       "\n",
       "    .dataframe tbody tr th {\n",
       "        vertical-align: top;\n",
       "    }\n",
       "\n",
       "    .dataframe thead th {\n",
       "        text-align: right;\n",
       "    }\n",
       "</style>\n",
       "<table border=\"1\" class=\"dataframe\">\n",
       "  <thead>\n",
       "    <tr style=\"text-align: right;\">\n",
       "      <th>Cyberbullying Victimization</th>\n",
       "      <th>&lt;15 years</th>\n",
       "      <th>&gt;15 years</th>\n",
       "      <th>Male</th>\n",
       "      <th>Female</th>\n",
       "      <th>American Indian</th>\n",
       "      <th>Asian</th>\n",
       "      <th>African American</th>\n",
       "      <th>Native Hawaiian</th>\n",
       "      <th>White</th>\n",
       "      <th>Hispanic/Latino</th>\n",
       "      <th>Multiple Hispanic/Latino</th>\n",
       "      <th>Multiple non-Hispanic/Latino</th>\n",
       "      <th>Non-white</th>\n",
       "      <th>White</th>\n",
       "      <th>Not-Hispanic/Latino</th>\n",
       "    </tr>\n",
       "  </thead>\n",
       "  <tbody>\n",
       "    <tr>\n",
       "      <th>Total</th>\n",
       "      <td>36.5</td>\n",
       "      <td>63.6</td>\n",
       "      <td>51.3</td>\n",
       "      <td>48.7</td>\n",
       "      <td>0.6</td>\n",
       "      <td>3.8</td>\n",
       "      <td>13.6</td>\n",
       "      <td>0.6</td>\n",
       "      <td>54.5</td>\n",
       "      <td>9.9</td>\n",
       "      <td>12.3</td>\n",
       "      <td>4.6</td>\n",
       "      <td>45.5</td>\n",
       "      <td>54.5</td>\n",
       "      <td>77.8</td>\n",
       "    </tr>\n",
       "    <tr>\n",
       "      <th>No</th>\n",
       "      <td>36.1</td>\n",
       "      <td>63.9</td>\n",
       "      <td>54.8</td>\n",
       "      <td>45.2</td>\n",
       "      <td>0.6</td>\n",
       "      <td>3.8</td>\n",
       "      <td>14.6</td>\n",
       "      <td>0.7</td>\n",
       "      <td>52.8</td>\n",
       "      <td>10.7</td>\n",
       "      <td>12.4</td>\n",
       "      <td>4.4</td>\n",
       "      <td>47.2</td>\n",
       "      <td>52.8</td>\n",
       "      <td>77.0</td>\n",
       "    </tr>\n",
       "    <tr>\n",
       "      <th>Yes</th>\n",
       "      <td>38.5</td>\n",
       "      <td>61.5</td>\n",
       "      <td>31.9</td>\n",
       "      <td>68.1</td>\n",
       "      <td>0.7</td>\n",
       "      <td>3.3</td>\n",
       "      <td>7.4</td>\n",
       "      <td>0.5</td>\n",
       "      <td>64.3</td>\n",
       "      <td>5.9</td>\n",
       "      <td>11.8</td>\n",
       "      <td>6.1</td>\n",
       "      <td>35.7</td>\n",
       "      <td>64.3</td>\n",
       "      <td>82.4</td>\n",
       "    </tr>\n",
       "  </tbody>\n",
       "</table>\n",
       "</div>"
      ],
      "text/plain": [
       "Cyberbullying Victimization <15 years >15 years Male   Female    \\\n",
       "Total                            36.5      63.6   51.3     48.7   \n",
       "No                               36.1      63.9   54.8     45.2   \n",
       "Yes                              38.5      61.5   31.9     68.1   \n",
       "\n",
       "Cyberbullying Victimization American Indian Asian  African American    \\\n",
       "Total                                   0.6    3.8               13.6   \n",
       "No                                      0.6    3.8               14.6   \n",
       "Yes                                     0.7    3.3                7.4   \n",
       "\n",
       "Cyberbullying Victimization Native Hawaiian  White  Hispanic/Latino  \\\n",
       "Total                                    0.6   54.5             9.9   \n",
       "No                                       0.7   52.8            10.7   \n",
       "Yes                                      0.5   64.3             5.9   \n",
       "\n",
       "Cyberbullying Victimization Multiple Hispanic/Latino   \\\n",
       "Total                                            12.3   \n",
       "No                                               12.4   \n",
       "Yes                                              11.8   \n",
       "\n",
       "Cyberbullying Victimization Multiple non-Hispanic/Latino  Non-white White  \\\n",
       "Total                                                 4.6      45.5  54.5   \n",
       "No                                                    4.4      47.2  52.8   \n",
       "Yes                                                   6.1      35.7  64.3   \n",
       "\n",
       "Cyberbullying Victimization Not-Hispanic/Latino   \n",
       "Total                                       77.8  \n",
       "No                                          77.0  \n",
       "Yes                                         82.4  "
      ]
     },
     "execution_count": 8,
     "metadata": {},
     "output_type": "execute_result"
    }
   ],
   "source": [
    "df1.reset_index(drop=True)\n",
    "df1=df1.rename({0:\"Total\",1:\"No\",2:\"Yes\"})\n",
    "df1"
   ]
  },
  {
   "cell_type": "code",
   "execution_count": 9,
   "metadata": {
    "scrolled": true
   },
   "outputs": [
    {
     "data": {
      "text/plain": [
       "<matplotlib.legend.Legend at 0x7f860c4e2e10>"
      ]
     },
     "execution_count": 9,
     "metadata": {},
     "output_type": "execute_result"
    },
    {
     "data": {
      "image/png": "[encoded data removed]",
      "text/plain": [
       "<Figure size 720x432 with 1 Axes>"
      ]
     },
     "metadata": {
      "needs_background": "light"
     },
     "output_type": "display_data"
    }
   ],
   "source": [
    "# df1.plot(figsize=(10,6), xticks=range(0, 8)).legend(title='Cyberbullying Victimization', bbox_to_anchor=(1, 1))\n",
    "\n",
    "# df1.plot.bar(index=df1.loc[df1[\"Cyberbullying Victimization\"]==\"Yes\"],rot=70, title=\"Cyberbullied - Year 2015\")\n",
    "\n",
    "# plt.show(block=True)\n",
    "df1['<15 years'] = df1['<15 years'].astype(float)\n",
    "df1['>15 years'] = df1['>15 years'].astype(float)\n",
    "df1['Male  '] = df1['Male  '].astype(float)\n",
    "df1['Female  '] = df1['Female  '].astype(float)\n",
    "df1['American Indian'] = df1['American Indian'].astype(float)\n",
    "df1['Asian '] = df1['Asian '].astype(float)\n",
    "df1['African American  '] = df1['African American  '].astype(float)\n",
    "df1['Native Hawaiian'] = df1['Native Hawaiian '].astype(float)\n",
    "df1['White'] = df1['White'].astype(float)\n",
    "df1['Hispanic/Latino'] = df1['Hispanic/Latino'].astype(float)\n",
    "df1['Multiple Hispanic/Latino '] = df1['Multiple Hispanic/Latino '].astype(float)\n",
    "df1['Multiple non-Hispanic/Latino '] = df1['Multiple non-Hispanic/Latino '].astype(float)\n",
    "df1['Non-white'] = df1['Non-white'].astype(float)\n",
    "df1['White'] = df1['White'].astype(float)\n",
    "df1['Not-Hispanic/Latino '] = df1['Not-Hispanic/Latino '].astype(float)\n",
    "\n",
    "\n",
    "df2=pd.DataFrame(df1.iloc[2],dtype=\"float\")\n",
    "df2\n",
    "# df1.reset_index()\n",
    "# df1.iloc[2].astype(float)\n",
    "# [x for x in df1.iloc[2]]\n",
    "\n",
    "df2.plot.bar(figsize=(10,6)).legend(title='Cyberbullying Victimization', bbox_to_anchor=(1, 1))\n",
    "\n"
   ]
  },
  {
   "cell_type": "code",
   "execution_count": 10,
   "metadata": {},
   "outputs": [
    {
     "data": {
      "text/plain": [
       "<matplotlib.legend.Legend at 0x7f860d246650>"
      ]
     },
     "execution_count": 10,
     "metadata": {},
     "output_type": "execute_result"
    },
    {
     "data": {
      "image/png": "[encoded data removed]",
      "text/plain": [
       "<Figure size 720x432 with 1 Axes>"
      ]
     },
     "metadata": {
      "needs_background": "light"
     },
     "output_type": "display_data"
    }
   ],
   "source": [
    "df4=df1[['<15 years','>15 years']]\n",
    "Cyberbully_age=pd.DataFrame(df4.iloc[2])\n",
    "Cyberbully_age.plot.bar(figsize=(10,6)).legend(title='Cyberbullying Victimization', bbox_to_anchor=(1, 1))\n",
    "\n"
   ]
  },
  {
   "cell_type": "code",
   "execution_count": 11,
   "metadata": {},
   "outputs": [
    {
     "data": {
      "text/plain": [
       "<matplotlib.legend.Legend at 0x7f860d43ab90>"
      ]
     },
     "execution_count": 11,
     "metadata": {},
     "output_type": "execute_result"
    },
    {
     "data": {
      "image/png": "[encoded data removed]",
      "text/plain": [
       "<Figure size 720x432 with 1 Axes>"
      ]
     },
     "metadata": {
      "needs_background": "light"
     },
     "output_type": "display_data"
    }
   ],
   "source": [
    "df6=df1[['Male  ','Female  ']]\n",
    "df6\n",
    "Cyberbully_gender=pd.DataFrame(df6.iloc[2])\n",
    "Cyberbully_gender.plot.bar(figsize=(10,6)).legend(title='Cyberbullying Victimization', bbox_to_anchor=(1, 1))\n",
    "\n"
   ]
  },
  {
   "cell_type": "code",
   "execution_count": 12,
   "metadata": {},
   "outputs": [
    {
     "data": {
      "text/plain": [
       "<matplotlib.legend.Legend at 0x7f860d77ad90>"
      ]
     },
     "execution_count": 12,
     "metadata": {},
     "output_type": "execute_result"
    },
    {
     "data": {
      "image/png": "[encoded data removed]",
      "text/plain": [
       "<Figure size 720x432 with 1 Axes>"
      ]
     },
     "metadata": {
      "needs_background": "light"
     },
     "output_type": "display_data"
    }
   ],
   "source": [
    "df7=df1[[\"American Indian\",\"Asian \",\"African American  \",\"Native Hawaiian\",\"White\",\"Hispanic/Latino\",\"Multiple Hispanic/Latino \",\"Multiple non-Hispanic/Latino \",\"Non-white\",\"Not-Hispanic/Latino \"] \n",
    "] \n",
    "df7\n",
    "Cyberbully_ethnicity=pd.DataFrame(df7.iloc[2])\n",
    "Cyberbully_ethnicity.plot.bar(figsize=(10,6)).legend(title='Cyberbullying Victimization', bbox_to_anchor=(1, 1))\n",
    "\n"
   ]
  },
  {
   "cell_type": "markdown",
   "metadata": {},
   "source": [
    "##Weighted Statistics for Demographic Variables With the Total Sample and by Victimization Status"
   ]
  },
  {
   "cell_type": "markdown",
   "metadata": {},
   "source": [
    "## Mental health condition and Cyberbullying"
   ]
  },
  {
   "cell_type": "code",
   "execution_count": 13,
   "metadata": {},
   "outputs": [
    {
     "data": {
      "text/html": [
       "<div>\n",
       "<style scoped>\n",
       "    .dataframe tbody tr th:only-of-type {\n",
       "        vertical-align: middle;\n",
       "    }\n",
       "\n",
       "    .dataframe tbody tr th {\n",
       "        vertical-align: top;\n",
       "    }\n",
       "\n",
       "    .dataframe thead th {\n",
       "        text-align: right;\n",
       "    }\n",
       "</style>\n",
       "<table border=\"1\" class=\"dataframe\">\n",
       "  <thead>\n",
       "    <tr style=\"text-align: right;\">\n",
       "      <th></th>\n",
       "      <th>Mental health conditions</th>\n",
       "      <th>Cyberbullied %</th>\n",
       "    </tr>\n",
       "  </thead>\n",
       "  <tbody>\n",
       "    <tr>\n",
       "      <th>1</th>\n",
       "      <td>Depressive symptoms (No)</td>\n",
       "      <td>40.3</td>\n",
       "    </tr>\n",
       "    <tr>\n",
       "      <th>2</th>\n",
       "      <td>Depressive symptoms (Yes)</td>\n",
       "      <td>59.7</td>\n",
       "    </tr>\n",
       "    <tr>\n",
       "      <th>3</th>\n",
       "      <td>Suicidal ideation (No)</td>\n",
       "      <td>58.8</td>\n",
       "    </tr>\n",
       "    <tr>\n",
       "      <th>4</th>\n",
       "      <td>Suicidal ideation (Yes)</td>\n",
       "      <td>41.2</td>\n",
       "    </tr>\n",
       "    <tr>\n",
       "      <th>5</th>\n",
       "      <td>Suicide planning (No)</td>\n",
       "      <td>65.5</td>\n",
       "    </tr>\n",
       "    <tr>\n",
       "      <th>6</th>\n",
       "      <td>Suicide planning (Yes)</td>\n",
       "      <td>34.5</td>\n",
       "    </tr>\n",
       "    <tr>\n",
       "      <th>7</th>\n",
       "      <td>Carried weapon (No)</td>\n",
       "      <td>80.2</td>\n",
       "    </tr>\n",
       "    <tr>\n",
       "      <th>8</th>\n",
       "      <td>Carried weapon (Yes)</td>\n",
       "      <td>19.8</td>\n",
       "    </tr>\n",
       "    <tr>\n",
       "      <th>9</th>\n",
       "      <td>Physical fight (No)</td>\n",
       "      <td>66.6</td>\n",
       "    </tr>\n",
       "    <tr>\n",
       "      <th>10</th>\n",
       "      <td>Physical fight (Yes)</td>\n",
       "      <td>33.4</td>\n",
       "    </tr>\n",
       "  </tbody>\n",
       "</table>\n",
       "</div>"
      ],
      "text/plain": [
       "     Mental health conditions Cyberbullied %\n",
       "1    Depressive symptoms (No)           40.3\n",
       "2   Depressive symptoms (Yes)           59.7\n",
       "3      Suicidal ideation (No)           58.8\n",
       "4     Suicidal ideation (Yes)           41.2\n",
       "5       Suicide planning (No)           65.5\n",
       "6      Suicide planning (Yes)           34.5\n",
       "7         Carried weapon (No)           80.2\n",
       "8        Carried weapon (Yes)           19.8\n",
       "9         Physical fight (No)           66.6\n",
       "10       Physical fight (Yes)           33.4"
      ]
     },
     "execution_count": 13,
     "metadata": {},
     "output_type": "execute_result"
    }
   ],
   "source": [
    "CyberB_df\n",
    "renamed_df1=CyberB_df.rename(columns={\"Unnamed: 0\":\"Mental health conditions\",\"Unnamed: 1\":\"Cyberbullied %\"})\n",
    "renamed_df1\n",
    "df3=renamed_df1.drop([0])\n",
    "df3\n"
   ]
  },
  {
   "cell_type": "code",
   "execution_count": 14,
   "metadata": {},
   "outputs": [
    {
     "data": {
      "text/html": [
       "<div>\n",
       "<style scoped>\n",
       "    .dataframe tbody tr th:only-of-type {\n",
       "        vertical-align: middle;\n",
       "    }\n",
       "\n",
       "    .dataframe tbody tr th {\n",
       "        vertical-align: top;\n",
       "    }\n",
       "\n",
       "    .dataframe thead th {\n",
       "        text-align: right;\n",
       "    }\n",
       "</style>\n",
       "<table border=\"1\" class=\"dataframe\">\n",
       "  <thead>\n",
       "    <tr style=\"text-align: right;\">\n",
       "      <th></th>\n",
       "      <th>1</th>\n",
       "      <th>2</th>\n",
       "      <th>3</th>\n",
       "      <th>4</th>\n",
       "      <th>5</th>\n",
       "      <th>6</th>\n",
       "      <th>7</th>\n",
       "      <th>8</th>\n",
       "      <th>9</th>\n",
       "      <th>10</th>\n",
       "    </tr>\n",
       "  </thead>\n",
       "  <tbody>\n",
       "    <tr>\n",
       "      <th>Mental health conditions</th>\n",
       "      <td>Depressive symptoms (No)</td>\n",
       "      <td>Depressive symptoms (Yes)</td>\n",
       "      <td>Suicidal ideation (No)</td>\n",
       "      <td>Suicidal ideation (Yes)</td>\n",
       "      <td>Suicide planning (No)</td>\n",
       "      <td>Suicide planning (Yes)</td>\n",
       "      <td>Carried weapon (No)</td>\n",
       "      <td>Carried weapon (Yes)</td>\n",
       "      <td>Physical fight (No)</td>\n",
       "      <td>Physical fight (Yes)</td>\n",
       "    </tr>\n",
       "    <tr>\n",
       "      <th>Cyberbullied %</th>\n",
       "      <td>40.3</td>\n",
       "      <td>59.7</td>\n",
       "      <td>58.8</td>\n",
       "      <td>41.2</td>\n",
       "      <td>65.5</td>\n",
       "      <td>34.5</td>\n",
       "      <td>80.2</td>\n",
       "      <td>19.8</td>\n",
       "      <td>66.6</td>\n",
       "      <td>33.4</td>\n",
       "    </tr>\n",
       "  </tbody>\n",
       "</table>\n",
       "</div>"
      ],
      "text/plain": [
       "                                                1                          2   \\\n",
       "Mental health conditions  Depressive symptoms (No)  Depressive symptoms (Yes)   \n",
       "Cyberbullied %                                40.3                       59.7   \n",
       "\n",
       "                                              3                        4   \\\n",
       "Mental health conditions  Suicidal ideation (No)  Suicidal ideation (Yes)   \n",
       "Cyberbullied %                              58.8                     41.2   \n",
       "\n",
       "                                             5                       6   \\\n",
       "Mental health conditions  Suicide planning (No)  Suicide planning (Yes)   \n",
       "Cyberbullied %                             65.5                    34.5   \n",
       "\n",
       "                                           7                     8   \\\n",
       "Mental health conditions  Carried weapon (No)  Carried weapon (Yes)   \n",
       "Cyberbullied %                           80.2                  19.8   \n",
       "\n",
       "                                           9                     10  \n",
       "Mental health conditions  Physical fight (No)  Physical fight (Yes)  \n",
       "Cyberbullied %                           66.6                  33.4  "
      ]
     },
     "execution_count": 14,
     "metadata": {},
     "output_type": "execute_result"
    }
   ],
   "source": [
    "\n",
    "df3.T\n",
    "\n"
   ]
  },
  {
   "cell_type": "code",
   "execution_count": 15,
   "metadata": {},
   "outputs": [
    {
     "name": "stdout",
     "output_type": "stream",
     "text": [
      "     Mental health conditions  Cyberbullied %\n",
      "1    Depressive symptoms (No)            40.3\n",
      "2   Depressive symptoms (Yes)            59.7\n",
      "3      Suicidal ideation (No)            58.8\n",
      "4     Suicidal ideation (Yes)            41.2\n",
      "5       Suicide planning (No)            65.5\n",
      "6      Suicide planning (Yes)            34.5\n",
      "7         Carried weapon (No)            80.2\n",
      "8        Carried weapon (Yes)            19.8\n",
      "9         Physical fight (No)            66.6\n",
      "10       Physical fight (Yes)            33.4\n",
      "Mental health conditions     object\n",
      "Cyberbullied %              float64\n",
      "dtype: object\n"
     ]
    }
   ],
   "source": [
    "df3 = pd.DataFrame(df3)\n",
    "df3['Cyberbullied %'] = pd.to_numeric(df3['Cyberbullied %'], errors='coerce')\n",
    "\n",
    "print (df3)\n",
    "print(df3.dtypes)"
   ]
  },
  {
   "cell_type": "code",
   "execution_count": 16,
   "metadata": {},
   "outputs": [
    {
     "data": {
      "text/html": [
       "<div>\n",
       "<style scoped>\n",
       "    .dataframe tbody tr th:only-of-type {\n",
       "        vertical-align: middle;\n",
       "    }\n",
       "\n",
       "    .dataframe tbody tr th {\n",
       "        vertical-align: top;\n",
       "    }\n",
       "\n",
       "    .dataframe thead th {\n",
       "        text-align: right;\n",
       "    }\n",
       "</style>\n",
       "<table border=\"1\" class=\"dataframe\">\n",
       "  <thead>\n",
       "    <tr style=\"text-align: right;\">\n",
       "      <th></th>\n",
       "      <th>Cyberbullied %</th>\n",
       "    </tr>\n",
       "    <tr>\n",
       "      <th>Mental health conditions</th>\n",
       "      <th></th>\n",
       "    </tr>\n",
       "  </thead>\n",
       "  <tbody>\n",
       "    <tr>\n",
       "      <th>Depressive symptoms (No)</th>\n",
       "      <td>40.3</td>\n",
       "    </tr>\n",
       "    <tr>\n",
       "      <th>Depressive symptoms (Yes)</th>\n",
       "      <td>59.7</td>\n",
       "    </tr>\n",
       "    <tr>\n",
       "      <th>Suicidal ideation (No)</th>\n",
       "      <td>58.8</td>\n",
       "    </tr>\n",
       "    <tr>\n",
       "      <th>Suicidal ideation (Yes)</th>\n",
       "      <td>41.2</td>\n",
       "    </tr>\n",
       "    <tr>\n",
       "      <th>Suicide planning (No)</th>\n",
       "      <td>65.5</td>\n",
       "    </tr>\n",
       "    <tr>\n",
       "      <th>Suicide planning (Yes)</th>\n",
       "      <td>34.5</td>\n",
       "    </tr>\n",
       "    <tr>\n",
       "      <th>Carried weapon (No)</th>\n",
       "      <td>80.2</td>\n",
       "    </tr>\n",
       "    <tr>\n",
       "      <th>Carried weapon (Yes)</th>\n",
       "      <td>19.8</td>\n",
       "    </tr>\n",
       "    <tr>\n",
       "      <th>Physical fight (No)</th>\n",
       "      <td>66.6</td>\n",
       "    </tr>\n",
       "    <tr>\n",
       "      <th>Physical fight (Yes)</th>\n",
       "      <td>33.4</td>\n",
       "    </tr>\n",
       "  </tbody>\n",
       "</table>\n",
       "</div>"
      ],
      "text/plain": [
       "                           Cyberbullied %\n",
       "Mental health conditions                 \n",
       "Depressive symptoms (No)             40.3\n",
       "Depressive symptoms (Yes)            59.7\n",
       "Suicidal ideation (No)               58.8\n",
       "Suicidal ideation (Yes)              41.2\n",
       "Suicide planning (No)                65.5\n",
       "Suicide planning (Yes)               34.5\n",
       "Carried weapon (No)                  80.2\n",
       "Carried weapon (Yes)                 19.8\n",
       "Physical fight (No)                  66.6\n",
       "Physical fight (Yes)                 33.4"
      ]
     },
     "execution_count": 16,
     "metadata": {},
     "output_type": "execute_result"
    }
   ],
   "source": [
    "df5=df3.set_index(\"Mental health conditions\")\n",
    "df5\n",
    "\n"
   ]
  },
  {
   "cell_type": "code",
   "execution_count": 18,
   "metadata": {},
   "outputs": [],
   "source": [
    "# df3['Suicidal ideation  (No)'] = df3['Suicidal ideation  (No)'].astype(float)\n",
    "# df3['Suicidal ideation  (Yes)'] = df3['Suicidal ideation  (Yes)'].astype(float)\n",
    "# df3['Suicide planning (No)']=df3['Suicide planning (No)'].astype(float)\n",
    "# df3['Suicide planning (Yes)']=df3['Suicide planning (Yes)'].astype(float)\n",
    "# df3['Carried weapon (No)']=df3['Carried weapon (No)'].astype(float)\n",
    "# df3['Carried weapon (Yes)']=df3['Carried weapon (Yes)'].astype(float\n",
    "# df3['Physicalfight  (No)']=df3['Physical fight (No)'].astype(float)\n",
    "# df3['Physicalfight (Yes)']=df3['Physical fight (Yes)'].astype(float)\n",
    "                                                               \n",
    "# Mental_health_df=pd.DataFrame(df3,dtype=\"float\")"
   ]
  },
  {
   "cell_type": "code",
   "execution_count": 50,
   "metadata": {},
   "outputs": [],
   "source": [
    "# df5.T"
   ]
  },
  {
   "cell_type": "code",
   "execution_count": 17,
   "metadata": {},
   "outputs": [
    {
     "data": {
      "text/plain": [
       "<matplotlib.legend.Legend at 0x7f860d972810>"
      ]
     },
     "execution_count": 17,
     "metadata": {},
     "output_type": "execute_result"
    },
    {
     "data": {
      "image/png": "[encoded data removed]",
      "text/plain": [
       "<Figure size 720x432 with 1 Axes>"
      ]
     },
     "metadata": {
      "needs_background": "light"
     },
     "output_type": "display_data"
    }
   ],
   "source": [
    "\n",
    "df6=pd.DataFrame(df5)\n",
    "df6\n",
    "# test = pd.DataFrame({\"Depressive symptoms (No)\":[1,2],\"Depressive symptoms (Yes)\":[3,4]})\n",
    "# df6.plot(color=['b','g'])\n",
    "# color_list = {\"Depressive symptoms (No)\":'green',\"Depressive symptoms (Yes)\":'blue'}\n",
    "df6_plot=df6.plot.bar(figsize=(10,6),color=['b','b','g','g'])  \n",
    "df6_plot.legend(title='Mental health conditions', bbox_to_anchor=(1, 1))\n",
    "\n"
   ]
  },
  {
   "cell_type": "code",
   "execution_count": 47,
   "metadata": {},
   "outputs": [],
   "source": [
    "# df4.plot.pie(figsize=(10,6), xticks=range(0, 8)).legend(title='Mental health conditions', bbox_to_anchor=(1, 1))\n",
    "\n",
    "# plot = df4.plot.pie(y=\"Cyberbullied %\", figsize=(5, 5))"
   ]
  },
  {
   "cell_type": "code",
   "execution_count": 18,
   "metadata": {},
   "outputs": [
    {
     "ename": "NameError",
     "evalue": "name 'plotdata' is not defined",
     "output_type": "error",
     "traceback": [
      "\u001b[0;31m---------------------------------------------------------------------------\u001b[0m",
      "\u001b[0;31mNameError\u001b[0m                                 Traceback (most recent call last)",
      "\u001b[0;32m<ipython-input-18-d3cdcb5d46ce>\u001b[0m in \u001b[0;36m<module>\u001b[0;34m\u001b[0m\n\u001b[1;32m      1\u001b[0m \u001b[0;31m# plotdata=pd.DataFrame(df3, index=[\"Depressive symptoms (No)\" ,\"Depressive symptoms (Yes)\",\"Suicidal ideation (No)\" \"Suicidal ideation (Yes)\", \"Suicide planning (No)\" \"Suicide planning (Yes)\" ,\"Carried weapon (No)\" ,\"Carried weapon (Yes)\",\"Physical fight (No\"),\"Physical fight (Yes)])\u001b[0m\u001b[0;34m\u001b[0m\u001b[0;34m\u001b[0m\u001b[0;34m\u001b[0m\u001b[0m\n\u001b[0;32m----> 2\u001b[0;31m \u001b[0mplotdata\u001b[0m\u001b[0;34m[\u001b[0m\u001b[0;34m'Cyberbullied %'\u001b[0m\u001b[0;34m]\u001b[0m\u001b[0;34m.\u001b[0m\u001b[0mplot\u001b[0m\u001b[0;34m(\u001b[0m\u001b[0mkind\u001b[0m\u001b[0;34m=\u001b[0m\u001b[0;34m\"bar\"\u001b[0m\u001b[0;34m,\u001b[0m \u001b[0mtitle\u001b[0m\u001b[0;34m=\u001b[0m\u001b[0;34m\"test\"\u001b[0m\u001b[0;34m)\u001b[0m\u001b[0;34m\u001b[0m\u001b[0;34m\u001b[0m\u001b[0m\n\u001b[0m\u001b[1;32m      3\u001b[0m \u001b[0;31m# Rotate the x-labels by 30 degrees, and keep the text aligned horizontally\u001b[0m\u001b[0;34m\u001b[0m\u001b[0;34m\u001b[0m\u001b[0;34m\u001b[0m\u001b[0m\n\u001b[1;32m      4\u001b[0m \u001b[0mplt\u001b[0m\u001b[0;34m.\u001b[0m\u001b[0mxticks\u001b[0m\u001b[0;34m(\u001b[0m\u001b[0mrotation\u001b[0m\u001b[0;34m=\u001b[0m\u001b[0;36m30\u001b[0m\u001b[0;34m,\u001b[0m \u001b[0mhorizontalalignment\u001b[0m\u001b[0;34m=\u001b[0m\u001b[0;34m\"center\"\u001b[0m\u001b[0;34m)\u001b[0m\u001b[0;34m\u001b[0m\u001b[0;34m\u001b[0m\u001b[0m\n\u001b[1;32m      5\u001b[0m \u001b[0mplt\u001b[0m\u001b[0;34m.\u001b[0m\u001b[0mtitle\u001b[0m\u001b[0;34m(\u001b[0m\u001b[0;34m\"Mental health condition and Cyberbullying\"\u001b[0m\u001b[0;34m)\u001b[0m\u001b[0;34m\u001b[0m\u001b[0;34m\u001b[0m\u001b[0m\n",
      "\u001b[0;31mNameError\u001b[0m: name 'plotdata' is not defined"
     ]
    }
   ],
   "source": [
    "# plotdata=pd.DataFrame(df3, index=[\"Depressive symptoms (No)\" ,\"Depressive symptoms (Yes)\",\"Suicidal ideation (No)\" \"Suicidal ideation (Yes)\", \"Suicide planning (No)\" \"Suicide planning (Yes)\" ,\"Carried weapon (No)\" ,\"Carried weapon (Yes)\",\"Physical fight (No\"),\"Physical fight (Yes)])  \n",
    "plotdata['Cyberbullied %'].plot(kind=\"bar\", title=\"test\")\n",
    "# Rotate the x-labels by 30 degrees, and keep the text aligned horizontally\n",
    "plt.xticks(rotation=30, horizontalalignment=\"center\")\n",
    "plt.title(\"Mental health condition and Cyberbullying\")\n",
    "plt.xlabel(\"Mental health condition\")\n",
    "plt.ylabel(\"Cyberbullying %\")"
   ]
  },
  {
   "cell_type": "code",
   "execution_count": 23,
   "metadata": {},
   "outputs": [
    {
     "ename": "NameError",
     "evalue": "name 'test' is not defined",
     "output_type": "error",
     "traceback": [
      "\u001b[0;31m---------------------------------------------------------------------------\u001b[0m",
      "\u001b[0;31mNameError\u001b[0m                                 Traceback (most recent call last)",
      "\u001b[0;32m<ipython-input-23-fd2e6c63bae8>\u001b[0m in \u001b[0;36m<module>\u001b[0;34m\u001b[0m\n\u001b[0;32m----> 1\u001b[0;31m \u001b[0mtest\u001b[0m\u001b[0;34m[\u001b[0m\u001b[0;34m'suicidal_ideation_no'\u001b[0m\u001b[0;34m]\u001b[0m \u001b[0;34m=\u001b[0m \u001b[0mfloat\u001b[0m\u001b[0;34m(\u001b[0m\u001b[0mtest\u001b[0m\u001b[0;34m.\u001b[0m\u001b[0miloc\u001b[0m\u001b[0;34m[\u001b[0m\u001b[0;36m0\u001b[0m\u001b[0;34m,\u001b[0m\u001b[0;36m1\u001b[0m\u001b[0;34m]\u001b[0m\u001b[0;34m)\u001b[0m\u001b[0;34m\u001b[0m\u001b[0;34m\u001b[0m\u001b[0m\n\u001b[0m\u001b[1;32m      2\u001b[0m \u001b[0mtest\u001b[0m\u001b[0;34m[\u001b[0m\u001b[0;34m'suicidal_ideation_yes'\u001b[0m\u001b[0;34m]\u001b[0m \u001b[0;34m=\u001b[0m \u001b[0mfloat\u001b[0m\u001b[0;34m(\u001b[0m\u001b[0mtest\u001b[0m\u001b[0;34m.\u001b[0m\u001b[0miloc\u001b[0m\u001b[0;34m[\u001b[0m\u001b[0;36m1\u001b[0m\u001b[0;34m,\u001b[0m\u001b[0;36m1\u001b[0m\u001b[0;34m]\u001b[0m\u001b[0;34m)\u001b[0m\u001b[0;34m\u001b[0m\u001b[0;34m\u001b[0m\u001b[0m\n",
      "\u001b[0;31mNameError\u001b[0m: name 'test' is not defined"
     ]
    }
   ],
   "source": [
    "test['suicidal_ideation_no'] = float(test.iloc[0,1])\n",
    "test['suicidal_ideation_yes'] = float(test.iloc[1,1])"
   ]
  },
  {
   "cell_type": "code",
   "execution_count": 24,
   "metadata": {},
   "outputs": [
    {
     "ename": "NameError",
     "evalue": "name 'test' is not defined",
     "output_type": "error",
     "traceback": [
      "\u001b[0;31m---------------------------------------------------------------------------\u001b[0m",
      "\u001b[0;31mNameError\u001b[0m                                 Traceback (most recent call last)",
      "\u001b[0;32m<ipython-input-24-ca7e793253ef>\u001b[0m in \u001b[0;36m<module>\u001b[0;34m\u001b[0m\n\u001b[0;32m----> 1\u001b[0;31m \u001b[0mtest\u001b[0m\u001b[0;34m.\u001b[0m\u001b[0mhead\u001b[0m\u001b[0;34m(\u001b[0m\u001b[0;34m)\u001b[0m\u001b[0;34m\u001b[0m\u001b[0;34m\u001b[0m\u001b[0m\n\u001b[0m",
      "\u001b[0;31mNameError\u001b[0m: name 'test' is not defined"
     ]
    }
   ],
   "source": [
    "test.head()"
   ]
  },
  {
   "cell_type": "code",
   "execution_count": 25,
   "metadata": {},
   "outputs": [
    {
     "ename": "NameError",
     "evalue": "name 'no_float' is not defined",
     "output_type": "error",
     "traceback": [
      "\u001b[0;31m---------------------------------------------------------------------------\u001b[0m",
      "\u001b[0;31mNameError\u001b[0m                                 Traceback (most recent call last)",
      "\u001b[0;32m<ipython-input-25-d4681b94e031>\u001b[0m in \u001b[0;36m<module>\u001b[0;34m\u001b[0m\n\u001b[1;32m      1\u001b[0m \u001b[0;31m#pd.pivot_table(test, index='Mental health conditions')\u001b[0m\u001b[0;34m\u001b[0m\u001b[0;34m\u001b[0m\u001b[0;34m\u001b[0m\u001b[0m\n\u001b[0;32m----> 2\u001b[0;31m \u001b[0mpd\u001b[0m\u001b[0;34m.\u001b[0m\u001b[0mDataFrame\u001b[0m\u001b[0;34m(\u001b[0m\u001b[0;34m{\u001b[0m\u001b[0;34m'Sucidal_ideation_no'\u001b[0m\u001b[0;34m:\u001b[0m \u001b[0;34m[\u001b[0m\u001b[0mno_float\u001b[0m\u001b[0;34m]\u001b[0m\u001b[0;34m}\u001b[0m\u001b[0;34m)\u001b[0m\u001b[0;34m\u001b[0m\u001b[0;34m\u001b[0m\u001b[0m\n\u001b[0m",
      "\u001b[0;31mNameError\u001b[0m: name 'no_float' is not defined"
     ]
    }
   ],
   "source": [
    "#pd.pivot_table(test, index='Mental health conditions')\n",
    "pd.DataFrame({'Sucidal_ideation_no': [no_float]})"
   ]
  },
  {
   "cell_type": "code",
   "execution_count": 17,
   "metadata": {},
   "outputs": [
    {
     "ename": "NameError",
     "evalue": "name 'df3' is not defined",
     "output_type": "error",
     "traceback": [
      "\u001b[0;31m---------------------------------------------------------------------------\u001b[0m",
      "\u001b[0;31mNameError\u001b[0m                                 Traceback (most recent call last)",
      "\u001b[0;32m<ipython-input-17-b601344e3a7c>\u001b[0m in \u001b[0;36m<module>\u001b[0;34m\u001b[0m\n\u001b[0;32m----> 1\u001b[0;31m \u001b[0mdf3\u001b[0m\u001b[0;34m.\u001b[0m\u001b[0mT\u001b[0m\u001b[0;34m.\u001b[0m\u001b[0mto_csv\u001b[0m\u001b[0;34m(\u001b[0m\u001b[0;34m'data-transform.csv'\u001b[0m\u001b[0;34m)\u001b[0m\u001b[0;34m\u001b[0m\u001b[0;34m\u001b[0m\u001b[0m\n\u001b[0m",
      "\u001b[0;31mNameError\u001b[0m: name 'df3' is not defined"
     ]
    }
   ],
   "source": [
    "df3.T.to_csv('data-transform.csv')"
   ]
  },
  {
   "cell_type": "code",
   "execution_count": null,
   "metadata": {},
   "outputs": [],
   "source": []
  }
 ],
 "metadata": {
  "kernelspec": {
   "display_name": "Python 3",
   "language": "python",
   "name": "python3"
  },
  "language_info": {
   "codemirror_mode": {
    "name": "ipython",
    "version": 3
   },
   "file_extension": ".py",
   "mimetype": "text/x-python",
   "name": "python",
   "nbconvert_exporter": "python",
   "pygments_lexer": "ipython3",
   "version": "3.7.6"
  }
 },
 "nbformat": 4,
 "nbformat_minor": 2
}
